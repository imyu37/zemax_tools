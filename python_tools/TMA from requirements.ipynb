{
 "cells": [
  {
   "cell_type": "markdown",
   "metadata": {},
   "source": [
    "Equations from DOI: 10.3807/JOSK.2009.13.2.184"
   ]
  },
  {
   "cell_type": "code",
   "execution_count": 67,
   "metadata": {},
   "outputs": [],
   "source": [
    "import numpy as np"
   ]
  },
  {
   "cell_type": "markdown",
   "metadata": {},
   "source": [
    "# Requirements"
   ]
  },
  {
   "cell_type": "code",
   "execution_count": 68,
   "metadata": {},
   "outputs": [],
   "source": [
    "ApertureDiameter = 5000\n",
    "F_Number = 2.5\n",
    "#EFL = 7000\n",
    "FOV_deg = 8.0 #full field of view\n",
    "\n",
    "beta_rad = np.deg2rad(FOV_deg/2)\n",
    "h1=ApertureDiameter/2\n",
    "u0 = 0\n",
    "u3 = 1/(2*F_Number) #could have opposite sign\n",
    "u_bar_0 = np.tan(np.deg2rad(FOV_deg/2))"
   ]
  },
  {
   "cell_type": "markdown",
   "metadata": {},
   "source": [
    "# Design Choice"
   ]
  },
  {
   "cell_type": "code",
   "execution_count": 69,
   "metadata": {},
   "outputs": [],
   "source": [
    "h2 = 3700/2\n",
    "d1 = -7000\n",
    "d2 = 3800"
   ]
  },
  {
   "cell_type": "markdown",
   "metadata": {},
   "source": [
    "# Compute sigma, u1, F1"
   ]
  },
  {
   "cell_type": "code",
   "execution_count": 70,
   "metadata": {},
   "outputs": [],
   "source": [
    "sigma = np.abs(h2/h1) + np.abs(d1 * np.tan(beta_rad)/h1) \n",
    "u1 = (h2-h1)/d1\n",
    "F1 = np.abs(1/(2 * u1))"
   ]
  },
  {
   "cell_type": "markdown",
   "metadata": {},
   "source": [
    "# Get solution"
   ]
  },
  {
   "cell_type": "code",
   "execution_count": 71,
   "metadata": {},
   "outputs": [],
   "source": [
    "useSolPlus = False\n",
    "D = d1**2*d2**2*u1**4 + 4*h1*h2*d2*(d1*u1**2 + h1*u3)\n",
    "u2p = (d1*d2*u1**2 + np.sqrt(D))/(2*h1*d2)\n",
    "u2m = (d1*d2*u1**2 - np.sqrt(D))/(2*h1*d2)\n",
    "if useSolPlus:\n",
    "    u2 = u2p\n",
    "else:\n",
    "    u2 = u2m"
   ]
  },
  {
   "cell_type": "code",
   "execution_count": 72,
   "metadata": {},
   "outputs": [],
   "source": [
    "h3 = h2 + d2 * u2\n",
    "BFL = -h3/u3"
   ]
  },
  {
   "cell_type": "code",
   "execution_count": 73,
   "metadata": {},
   "outputs": [],
   "source": [
    "rs = [-2*h1/(u1+u0), -2*h2/(u2+u1), -2*h3/(u3+u2)]"
   ]
  },
  {
   "cell_type": "markdown",
   "metadata": {},
   "source": [
    "# Summary"
   ]
  },
  {
   "cell_type": "code",
   "execution_count": 74,
   "metadata": {},
   "outputs": [
    {
     "name": "stdout",
     "output_type": "stream",
     "text": [
      "d_1: -7000.00000\n",
      "d_2: 3800.00000\n",
      "d_3: -3456.51691\n"
     ]
    }
   ],
   "source": [
    "for j in range(1,4):\n",
    "    print(\"d_%i: %5.5f\" % (j, [d1, d2, BFL][j-1]))"
   ]
  },
  {
   "cell_type": "code",
   "execution_count": 75,
   "metadata": {},
   "outputs": [
    {
     "name": "stdout",
     "output_type": "stream",
     "text": [
      "r_1: -53846.15385\n",
      "r_2: 17447.64365\n",
      "r_3: 13177.70321\n"
     ]
    }
   ],
   "source": [
    "for j in range(1,4):\n",
    "    print(\"r_%i: %5.5f\" % (j, rs[j-1]))"
   ]
  },
  {
   "cell_type": "code",
   "execution_count": null,
   "metadata": {},
   "outputs": [],
   "source": []
  },
  {
   "cell_type": "code",
   "execution_count": null,
   "metadata": {},
   "outputs": [],
   "source": []
  },
  {
   "cell_type": "markdown",
   "metadata": {},
   "source": [
    "## "
   ]
  },
  {
   "cell_type": "code",
   "execution_count": null,
   "metadata": {},
   "outputs": [],
   "source": []
  },
  {
   "cell_type": "code",
   "execution_count": null,
   "metadata": {},
   "outputs": [],
   "source": []
  }
 ],
 "metadata": {
  "kernelspec": {
   "display_name": "Python 3",
   "language": "python",
   "name": "python3"
  },
  "language_info": {
   "codemirror_mode": {
    "name": "ipython",
    "version": 3
   },
   "file_extension": ".py",
   "mimetype": "text/x-python",
   "name": "python",
   "nbconvert_exporter": "python",
   "pygments_lexer": "ipython3",
   "version": "3.7.7"
  }
 },
 "nbformat": 4,
 "nbformat_minor": 4
}
